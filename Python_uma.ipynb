{
  "nbformat": 4,
  "nbformat_minor": 0,
  "metadata": {
    "colab": {
      "name": "Python uma.ipynb",
      "provenance": [],
      "authorship_tag": "ABX9TyOkkdKk60a4IK3NWMtI9Sx5",
      "include_colab_link": true
    },
    "kernelspec": {
      "name": "python3",
      "display_name": "Python 3"
    }
  },
  "cells": [
    {
      "cell_type": "markdown",
      "metadata": {
        "id": "view-in-github",
        "colab_type": "text"
      },
      "source": [
        "<a href=\"https://colab.research.google.com/github/umadevi-coder/python--uma/blob/master/Python_uma.ipynb\" target=\"_parent\"><img src=\"https://colab.research.google.com/assets/colab-badge.svg\" alt=\"Open In Colab\"/></a>"
      ]
    },
    {
      "cell_type": "code",
      "metadata": {
        "id": "ftmmmqdH3gJ5",
        "colab_type": "code",
        "colab": {}
      },
      "source": [
        "python lists"
      ],
      "execution_count": null,
      "outputs": []
    },
    {
      "cell_type": "markdown",
      "metadata": {
        "id": "pzm6J--b3z15",
        "colab_type": "text"
      },
      "source": [
        "Integer=number\n",
        "Float=number with decimals\n",
        "string=sequence of characters\n",
        "object=all characters\n",
        "list=a sequence of objects/strings\n",
        "brackets=make it a list(you can change values)\n",
        "tuple=make it  a parantheses(you cannot change values)\n",
        "Dictionary=creates key values(used heavily in NoSQL)\n",
        "\n",
        "NoSQL=language used to work with unstructured data\n",
        "NoSQL softwaes=Mongodb,Cassendra,Amazon Dynamo DB\n",
        "SQL=to work with structured data\n",
        "sql s/w=Postgre sql ,mysql,sql lie,microsoft sql server\n",
        "loops=performing tasks over again and  again\n",
        "range function=outputs an ordered sequence as a list\n",
        "\n",
        "uma=[23,45,67,80,90,100]\n",
        "#we can change the variable ie.,mutable\n",
        "uma[3]=5\n",
        "uma\n",
        "\n",
        "\n"
      ]
    },
    {
      "cell_type": "code",
      "metadata": {
        "id": "EtXLprmg6sMl",
        "colab_type": "code",
        "colab": {
          "base_uri": "https://localhost:8080/",
          "height": 34
        },
        "outputId": "1cfdc4ac-a151-4ee1-bed0-1e21113fce02"
      },
      "source": [
        "uma=[23,45,67,80,90,100]\n",
        "#we can change the variable ie.,mutable\n",
        "uma[3]=5\n",
        "\n",
        "uma"
      ],
      "execution_count": 1,
      "outputs": [
        {
          "output_type": "execute_result",
          "data": {
            "text/plain": [
              "[23, 45, 67, 5, 90, 100]"
            ]
          },
          "metadata": {
            "tags": []
          },
          "execution_count": 1
        }
      ]
    },
    {
      "cell_type": "code",
      "metadata": {
        "id": "wy36uz6_7AFB",
        "colab_type": "code",
        "colab": {
          "base_uri": "https://localhost:8080/",
          "height": 232
        },
        "outputId": "94afe82e-60a9-4924-e790-7c2bbb2f1bda"
      },
      "source": [
        "uma1=(23,45,67,80,90,100)\n",
        "uma1[2]=5\n",
        "#uma1\n",
        "Money=['coins','dollars','pesos']\n",
        "type(Money)\n",
        "\n"
      ],
      "execution_count": 6,
      "outputs": [
        {
          "output_type": "error",
          "ename": "TypeError",
          "evalue": "ignored",
          "traceback": [
            "\u001b[0;31m---------------------------------------------------------------------------\u001b[0m",
            "\u001b[0;31mTypeError\u001b[0m                                 Traceback (most recent call last)",
            "\u001b[0;32m<ipython-input-6-89658ffb8295>\u001b[0m in \u001b[0;36m<module>\u001b[0;34m()\u001b[0m\n\u001b[1;32m      1\u001b[0m \u001b[0muma1\u001b[0m\u001b[0;34m=\u001b[0m\u001b[0;34m(\u001b[0m\u001b[0;36m23\u001b[0m\u001b[0;34m,\u001b[0m\u001b[0;36m45\u001b[0m\u001b[0;34m,\u001b[0m\u001b[0;36m67\u001b[0m\u001b[0;34m,\u001b[0m\u001b[0;36m80\u001b[0m\u001b[0;34m,\u001b[0m\u001b[0;36m90\u001b[0m\u001b[0;34m,\u001b[0m\u001b[0;36m100\u001b[0m\u001b[0;34m)\u001b[0m\u001b[0;34m\u001b[0m\u001b[0;34m\u001b[0m\u001b[0m\n\u001b[0;32m----> 2\u001b[0;31m \u001b[0muma1\u001b[0m\u001b[0;34m[\u001b[0m\u001b[0;36m2\u001b[0m\u001b[0;34m]\u001b[0m\u001b[0;34m=\u001b[0m\u001b[0;36m5\u001b[0m\u001b[0;34m\u001b[0m\u001b[0;34m\u001b[0m\u001b[0m\n\u001b[0m\u001b[1;32m      3\u001b[0m \u001b[0;31m#uma1\u001b[0m\u001b[0;34m\u001b[0m\u001b[0;34m\u001b[0m\u001b[0;34m\u001b[0m\u001b[0m\n\u001b[1;32m      4\u001b[0m \u001b[0mMoney\u001b[0m\u001b[0;34m=\u001b[0m\u001b[0;34m[\u001b[0m\u001b[0;34m'coins'\u001b[0m\u001b[0;34m,\u001b[0m\u001b[0;34m'dollars'\u001b[0m\u001b[0;34m,\u001b[0m\u001b[0;34m'pesos'\u001b[0m\u001b[0;34m]\u001b[0m\u001b[0;34m\u001b[0m\u001b[0;34m\u001b[0m\u001b[0m\n\u001b[1;32m      5\u001b[0m \u001b[0mtype\u001b[0m\u001b[0;34m(\u001b[0m\u001b[0mMoney\u001b[0m\u001b[0;34m)\u001b[0m\u001b[0;34m\u001b[0m\u001b[0;34m\u001b[0m\u001b[0m\n",
            "\u001b[0;31mTypeError\u001b[0m: 'tuple' object does not support item assignment"
          ]
        }
      ]
    },
    {
      "cell_type": "code",
      "metadata": {
        "id": "EBM9fqtB7-4Y",
        "colab_type": "code",
        "colab": {
          "base_uri": "https://localhost:8080/",
          "height": 34
        },
        "outputId": "6e94b811-17c9-4bb2-f96e-71e4ad3ce3a8"
      },
      "source": [
        "Money=['coins','dollars','pesos',\"bitcoin\"]\n",
        "type(Money)\n"
      ],
      "execution_count": 7,
      "outputs": [
        {
          "output_type": "execute_result",
          "data": {
            "text/plain": [
              "list"
            ]
          },
          "metadata": {
            "tags": []
          },
          "execution_count": 7
        }
      ]
    },
    {
      "cell_type": "code",
      "metadata": {
        "id": "G-kOp0448RnI",
        "colab_type": "code",
        "colab": {
          "base_uri": "https://localhost:8080/",
          "height": 34
        },
        "outputId": "9630d329-228d-41d2-e995-13a18fe652c5"
      },
      "source": [
        "Money[1]='pennies'\n",
        "Money\n",
        "#python starts index with 0,1,1...\n",
        "#Just replaced a value in position 1\n"
      ],
      "execution_count": 8,
      "outputs": [
        {
          "output_type": "execute_result",
          "data": {
            "text/plain": [
              "['coins', 'pennies', 'pesos']"
            ]
          },
          "metadata": {
            "tags": []
          },
          "execution_count": 8
        }
      ]
    },
    {
      "cell_type": "code",
      "metadata": {
        "id": "z-mnNINe8zyf",
        "colab_type": "code",
        "colab": {
          "base_uri": "https://localhost:8080/",
          "height": 34
        },
        "outputId": "497ceb7f-cb79-444a-eb29-5e52eab827bd"
      },
      "source": [
        "Money[0:2]\n",
        "#first value is starting point\n",
        "#second value indicates the number of values\n"
      ],
      "execution_count": 9,
      "outputs": [
        {
          "output_type": "execute_result",
          "data": {
            "text/plain": [
              "['coins', 'pennies']"
            ]
          },
          "metadata": {
            "tags": []
          },
          "execution_count": 9
        }
      ]
    },
    {
      "cell_type": "code",
      "metadata": {
        "id": "b5B0LJD69fVS",
        "colab_type": "code",
        "colab": {
          "base_uri": "https://localhost:8080/",
          "height": 34
        },
        "outputId": "d7a109dd-8c69-41eb-dfec-f7d26d4cf1c7"
      },
      "source": [
        "Money[1:3]\n"
      ],
      "execution_count": 10,
      "outputs": [
        {
          "output_type": "execute_result",
          "data": {
            "text/plain": [
              "['pennies', 'pesos']"
            ]
          },
          "metadata": {
            "tags": []
          },
          "execution_count": 10
        }
      ]
    },
    {
      "cell_type": "code",
      "metadata": {
        "id": "mFu5o_Sn90YX",
        "colab_type": "code",
        "colab": {
          "base_uri": "https://localhost:8080/",
          "height": 34
        },
        "outputId": "4e575fd7-5046-4e5f-ead5-2d4d854e39d9"
      },
      "source": [
        "Money[::-1]\n",
        "#this reveres the list"
      ],
      "execution_count": 11,
      "outputs": [
        {
          "output_type": "execute_result",
          "data": {
            "text/plain": [
              "['pesos', 'pennies', 'coins']"
            ]
          },
          "metadata": {
            "tags": []
          },
          "execution_count": 11
        }
      ]
    },
    {
      "cell_type": "code",
      "metadata": {
        "id": "5MOFPEn9-CU_",
        "colab_type": "code",
        "colab": {
          "base_uri": "https://localhost:8080/",
          "height": 34
        },
        "outputId": "2f40e858-37b1-436d-8722-18f4d81d4c7a"
      },
      "source": [
        "print(Money)"
      ],
      "execution_count": 12,
      "outputs": [
        {
          "output_type": "stream",
          "text": [
            "['coins', 'pennies', 'pesos']\n"
          ],
          "name": "stdout"
        }
      ]
    },
    {
      "cell_type": "code",
      "metadata": {
        "id": "hzIVOuU9-FAK",
        "colab_type": "code",
        "colab": {
          "base_uri": "https://localhost:8080/",
          "height": 34
        },
        "outputId": "4de63dd4-b861-4008-e837-f0c397a8952c"
      },
      "source": [
        "print(Money[0::-3])\n",
        "#goes backwards and points at -3 position"
      ],
      "execution_count": 13,
      "outputs": [
        {
          "output_type": "stream",
          "text": [
            "['coins']\n"
          ],
          "name": "stdout"
        }
      ]
    },
    {
      "cell_type": "code",
      "metadata": {
        "id": "lEROItdl-dym",
        "colab_type": "code",
        "colab": {
          "base_uri": "https://localhost:8080/",
          "height": 34
        },
        "outputId": "db9bfaad-b8d3-451b-df51-29e48a7c15c2"
      },
      "source": [
        "uma2={12,5,17,89,90,43,2,1}\n",
        "#an unordered list\n",
        "uma2\n",
        "\n"
      ],
      "execution_count": 14,
      "outputs": [
        {
          "output_type": "execute_result",
          "data": {
            "text/plain": [
              "{1, 2, 5, 12, 17, 43, 89, 90}"
            ]
          },
          "metadata": {
            "tags": []
          },
          "execution_count": 14
        }
      ]
    },
    {
      "cell_type": "code",
      "metadata": {
        "id": "gK_7u0nr-7Ak",
        "colab_type": "code",
        "colab": {
          "base_uri": "https://localhost:8080/",
          "height": 187
        },
        "outputId": "5c8991ab-0d44-4792-f579-1e1374d984f7"
      },
      "source": [
        "#range function\n",
        "for x in range(10):\n",
        "  print (x)\n"
      ],
      "execution_count": 18,
      "outputs": [
        {
          "output_type": "stream",
          "text": [
            "0\n",
            "1\n",
            "2\n",
            "3\n",
            "4\n",
            "5\n",
            "6\n",
            "7\n",
            "8\n",
            "9\n"
          ],
          "name": "stdout"
        }
      ]
    },
    {
      "cell_type": "code",
      "metadata": {
        "id": "_wPe6yJR_Yk0",
        "colab_type": "code",
        "colab": {
          "base_uri": "https://localhost:8080/",
          "height": 170
        },
        "outputId": "673da7f0-6ed6-4e4e-92de-0ae6ba6aa871"
      },
      "source": [
        "for x in range(9):\n",
        "  print(x*6)"
      ],
      "execution_count": 19,
      "outputs": [
        {
          "output_type": "stream",
          "text": [
            "0\n",
            "6\n",
            "12\n",
            "18\n",
            "24\n",
            "30\n",
            "36\n",
            "42\n",
            "48\n"
          ],
          "name": "stdout"
        }
      ]
    },
    {
      "cell_type": "code",
      "metadata": {
        "id": "3gv0CTf3_pnS",
        "colab_type": "code",
        "colab": {
          "base_uri": "https://localhost:8080/",
          "height": 102
        },
        "outputId": "4da3ef02-d3d9-4c25-c73b-28616cadfc0a"
      },
      "source": [
        "#creating range within our range\n",
        "for x in range(1,6):\n",
        "  print(x)"
      ],
      "execution_count": 21,
      "outputs": [
        {
          "output_type": "stream",
          "text": [
            "1\n",
            "2\n",
            "3\n",
            "4\n",
            "5\n"
          ],
          "name": "stdout"
        }
      ]
    },
    {
      "cell_type": "code",
      "metadata": {
        "id": "N1xsTbDvABOq",
        "colab_type": "code",
        "colab": {
          "base_uri": "https://localhost:8080/",
          "height": 136
        },
        "outputId": "1c9915b2-dc57-4da3-8b82-1d59235dea02"
      },
      "source": [
        "for x in range(6,49,7):\n",
        "  print(x)"
      ],
      "execution_count": 22,
      "outputs": [
        {
          "output_type": "stream",
          "text": [
            "6\n",
            "13\n",
            "20\n",
            "27\n",
            "34\n",
            "41\n",
            "48\n"
          ],
          "name": "stdout"
        }
      ]
    },
    {
      "cell_type": "code",
      "metadata": {
        "id": "5-xVWM8jArSe",
        "colab_type": "code",
        "colab": {
          "base_uri": "https://localhost:8080/",
          "height": 289
        },
        "outputId": "5dbbd3e5-1f90-42da-f987-07881c8023a5"
      },
      "source": [
        "# b can be i or whatever\n",
        "for b in range(15):\n",
        "  print (b)\n",
        "else:\n",
        "  print(\"done!\")"
      ],
      "execution_count": 25,
      "outputs": [
        {
          "output_type": "stream",
          "text": [
            "0\n",
            "1\n",
            "2\n",
            "3\n",
            "4\n",
            "5\n",
            "6\n",
            "7\n",
            "8\n",
            "9\n",
            "10\n",
            "11\n",
            "12\n",
            "13\n",
            "14\n",
            "done!\n"
          ],
          "name": "stdout"
        }
      ]
    },
    {
      "cell_type": "code",
      "metadata": {
        "id": "mH87B5aZBUyv",
        "colab_type": "code",
        "colab": {
          "base_uri": "https://localhost:8080/",
          "height": 136
        },
        "outputId": "cff00696-41f6-495f-de03-83142fa9dfc9"
      },
      "source": [
        "#loop excercise\n",
        "ex=\"umadevi\"\n",
        "x=0\n",
        "\n",
        "for i in ex:\n",
        "  x=x+1\n",
        "  print(ex[0:x])\n",
        "  #it start with 'u' and adds another character every time"
      ],
      "execution_count": 31,
      "outputs": [
        {
          "output_type": "stream",
          "text": [
            "u\n",
            "um\n",
            "uma\n",
            "umad\n",
            "umade\n",
            "umadev\n",
            "umadevi\n"
          ],
          "name": "stdout"
        }
      ]
    }
  ]
}